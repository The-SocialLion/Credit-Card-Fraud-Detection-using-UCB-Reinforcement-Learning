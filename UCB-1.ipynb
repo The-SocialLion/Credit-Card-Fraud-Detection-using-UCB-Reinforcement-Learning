{
  "nbformat": 4,
  "nbformat_minor": 0,
  "metadata": {
    "colab": {
      "name": "Untitled54.ipynb",
      "provenance": []
    },
    "kernelspec": {
      "name": "python3",
      "display_name": "Python 3"
    }
  },
  "cells": [
    {
      "cell_type": "code",
      "metadata": {
        "id": "xO7FBzb_l8AV"
      },
      "source": [
        "import numpy as np\r\n",
        "import matplotlib.pyplot as plt\r\n",
        "import pandas as pd\r\n",
        "import math"
      ],
      "execution_count": null,
      "outputs": []
    },
    {
      "cell_type": "code",
      "metadata": {
        "id": "TOCl4eSumCp8"
      },
      "source": [
        "df=pd.read_csv(\"creditcard.csv\")\r\n",
        "df=df.drop(columns=['Time','Class','Amount'])\r\n",
        "df=df.dropna(how='any')"
      ],
      "execution_count": null,
      "outputs": []
    },
    {
      "cell_type": "code",
      "metadata": {
        "id": "Xa2XMZRhsaZl"
      },
      "source": [
        "\r\n",
        "N = int(len(df))#number of transactions made\r\n",
        "d = 28 # number of customers \r\n",
        "CT = [] \r\n",
        "NOT = [0] * d \r\n",
        "sums_of_rewards = [0] * d \r\n",
        "total_reward = 0\r\n",
        "for n in range(0, N):\r\n",
        "    t = 0\r\n",
        "    max_upper_bound = 0\r\n",
        "    for i in range(0, d):\r\n",
        "        if (NOT[i] > 0): # following the formulae for exploiting the best ad during exploration of the ads in a short duration\r\n",
        "            average_reward = sums_of_rewards[i] / NOT[i]\r\n",
        "            delta_i = math.sqrt(3/2 * math.log(n + 1) / NOT[i])\r\n",
        "            upper_bound = average_reward + delta_i\r\n",
        "        else:\r\n",
        "                upper_bound = 1e400 #setting a limit for a particular bound\r\n",
        "        if upper_bound > max_upper_bound:\r\n",
        "            max_upper_bound = upper_bound\r\n",
        "            ad = i\r\n",
        "    CT.append(t)\r\n",
        "    NOT[t] = NOT[t] + 1\r\n",
        "    reward = df.values[n, t]\r\n",
        "    sums_of_rewards[t] = sums_of_rewards[t] + reward\r\n",
        "    total_reward = total_reward + reward"
      ],
      "execution_count": null,
      "outputs": []
    },
    {
      "cell_type": "markdown",
      "metadata": {
        "id": "2T0y6_KgvRtm"
      },
      "source": [
        "Based on the below plot we can identify whether a person is a credit card fraud or not"
      ]
    },
    {
      "cell_type": "code",
      "metadata": {
        "colab": {
          "base_uri": "https://localhost:8080/",
          "height": 295
        },
        "id": "SJsB88QgsqJz",
        "outputId": "25e7cbec-040c-4835-c8b4-8c8a8f2d18f5"
      },
      "source": [
        "plt.hist(ads_selected)\r\n",
        "plt.title('Histogram of Transactions made by customer')\r\n",
        "plt.xlabel('Customers with active credit cards')\r\n",
        "plt.ylabel('Number of times a transaction was made')\r\n",
        "plt.show()"
      ],
      "execution_count": null,
      "outputs": [
        {
          "output_type": "display_data",
          "data": {
            "image/png": "[encoded data removed]",
            "text/plain": [
              "<Figure size 432x288 with 1 Axes>"
            ]
          },
          "metadata": {
            "tags": [],
            "needs_background": "light"
          }
        }
      ]
    }
  ]
}